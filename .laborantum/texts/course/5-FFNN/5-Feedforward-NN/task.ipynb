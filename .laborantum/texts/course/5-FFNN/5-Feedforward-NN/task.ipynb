{
    "cells": [
        {
            "cell_type": "code",
            "execution_count": 1,
            "metadata": {
                "colab": {},
                "colab_type": "code",
                "id": "DWr6cvb9pS3J"
            },
            "outputs": [],
            "source": [
                "import torch\n",
                "import random\n",
                "import numpy as np\n",
                "import json_tricks\n",
                "import lovely_tensors as lt\n",
                "\n",
                "lt.monkey_patch()\n",
                "\n",
                "random.seed(0)\n",
                "np.random.seed(0)\n",
                "torch.manual_seed(0)\n",
                "torch.cuda.manual_seed(0)\n",
                "torch.backends.cudnn.deterministic = True\n",
                "\n",
                "answer = {}"
            ]
        },
        {
            "cell_type": "markdown",
            "metadata": {},
            "source": [
                "# Training a Fully Connected Feedforward Neural Network"
            ],
            "outputs": []
        },
        {
            "cell_type": "markdown",
            "metadata": {},
            "source": [
                "In this exercise we will train a 2-layer FCNN to classify digits into 10 classes (0, 1, 2, ..., 9).\n",
                "\n",
                "To build such network, we will use:\n",
                "- Fully Connected NN\n",
                "- Adam Optimizer\n",
                "- MNIST dataset\n",
                "- Accuracy metrics\n",
                "- Softmax final activation loss function (but we will embed it into the loss function)\n",
                "- Cross-Entropy loss"
            ],
            "outputs": []
        },
        {
            "cell_type": "markdown",
            "metadata": {},
            "source": [
                "# Task 1: Prepare the data\n",
                "\n",
                "Firstly, prepare MNIST dataset. We will use `torchvision.datasets.MNIST` for that.\n",
                "\n",
                "You have to download train and test datasets and visualize some of the images."
            ],
            "outputs": []
        },
        {
            "cell_type": "code",
            "execution_count": 2,
            "metadata": {
                "colab": {},
                "colab_type": "code",
                "id": "MqGQWTDIpS3R"
            },
            "outputs": [],
            "source": [
                "import torchvision.datasets\n",
                "MNIST_train = ...\n",
                "MNIST_test = ...\n",
                "## YOUR CODE HERE\n"
            ]
        },
        {
            "cell_type": "markdown",
            "metadata": {},
            "source": [
                "Check that the data is prepared:"
            ],
            "outputs": []
        },
        {
            "cell_type": "code",
            "execution_count": null,
            "metadata": {
                "colab": {},
                "colab_type": "code",
                "id": "vv_Lz7PYpS3U"
            },
            "outputs": [],
            "source": [
                "X_train = MNIST_train.train_data\n",
                "y_train = MNIST_train.train_labels\n",
                "X_test = MNIST_test.test_data\n",
                "y_test = MNIST_test.test_labels"
            ]
        },
        {
            "cell_type": "code",
            "execution_count": null,
            "metadata": {
                "colab": {
                    "base_uri": "https://localhost:8080/",
                    "height": 35
                },
                "colab_type": "code",
                "id": "hMhsAedlrQF5",
                "outputId": "ae08bd21-79ff-48da-9886-48996a178110"
            },
            "outputs": [],
            "source": [
                "answer['X_train.dtype'] = str(X_train.dtype)\n",
                "answer['y_train.dtype'] = str(y_train.dtype)\n",
                "answer['X_train.shape'] = X_train.shape\n",
                "answer['X_test.shape'] = X_test.shape\n",
                "answer['y_train.shape'] = y_train.shape\n",
                "answer['y_test.shape'] = y_test.shape\n",
                "\n",
                "print(X_train.dtype, X_test.dtype, y_train.dtype, y_test.dtype)\n",
                "print(X_train.shape, X_test.shape, y_train.shape, y_test.shape)\n",
                "\n",
                "print(X_train)\n",
                "print(X_test)\n",
                "print(y_train)\n",
                "print(y_test)\n"
            ]
        },
        {
            "cell_type": "markdown",
            "metadata": {},
            "source": [
                "Neural networks are usually trained in float values. Usually in `float32` or `float16`. In this exercise we will use `float32` precision.\n",
                "\n",
                "Convert your data to `float` type"
            ],
            "outputs": []
        },
        {
            "cell_type": "code",
            "execution_count": null,
            "metadata": {
                "colab": {},
                "colab_type": "code",
                "id": "_yTaVOrPvap6"
            },
            "outputs": [],
            "source": [
                "# X_train = ...\n",
                "# X_test = ...\n",
                "## YOUR CODE HERE\n"
            ]
        },
        {
            "cell_type": "code",
            "execution_count": null,
            "metadata": {
                "colab": {
                    "base_uri": "https://localhost:8080/",
                    "height": 35
                },
                "colab_type": "code",
                "id": "_gfupg4kpS3X",
                "outputId": "e72c3ff4-50f7-4695-d5d5-f838e7ac2667"
            },
            "outputs": [],
            "source": [
                "answer['X_train.dtype2'] = str(X_train.dtype)\n",
                "answer['X_test.dtype2'] = str(X_test.dtype)\n"
            ]
        },
        {
            "cell_type": "markdown",
            "metadata": {},
            "source": [
                "Let us visualize the data that we have"
            ],
            "outputs": []
        },
        {
            "cell_type": "code",
            "execution_count": null,
            "metadata": {
                "colab": {
                    "base_uri": "https://localhost:8080/",
                    "height": 365
                },
                "colab_type": "code",
                "id": "Z1tFXMwJpS3e",
                "outputId": "e7c2778b-d6f5-4718-ea28-fc8544f0416c"
            },
            "outputs": [],
            "source": [
                "import matplotlib.pyplot as plt\n",
                "plt.imshow(X_train[0, :, :])\n",
                "plt.show()\n",
                "print(y_train[0])"
            ]
        },
        {
            "cell_type": "markdown",
            "metadata": {},
            "source": [
                "Before we continue, our data should be normalized. Right now we have image data that was stored in int8 (from 0 to 255), and after transforming it to float, it still is in the same range.\n",
                "\n",
                "What we want is the data that has 0 mean and 1 variance.\n",
                "\n",
                "**Task**\n",
                "Scale and center your data so that it has 0 mean and 1 variance.\n",
                "\n",
                "To calculate mean and standard deviation of colors, use only training dataset!"
            ],
            "outputs": []
        },
        {
            "cell_type": "code",
            "execution_count": null,
            "metadata": {},
            "outputs": [],
            "source": [
                "mean = ...\n",
                "std = ...\n",
                "\n",
                "# X_train = ...\n",
                "# X_test = ...\n",
                "## YOUR CODE HERE\n",
                "\n",
                "answer['X_train.mean'] = mean.detach().numpy()\n",
                "answer['X_train.std'] = std.detach().numpy()\n",
                "\n",
                "answer['X_train_normalized.mean'] = X_train.mean().detach().numpy()\n",
                "answer['X_train_normalized.std'] = X_train.std().detach().numpy()\n",
                "\n",
                "answer['X_test_normalized.mean'] = X_test.mean().detach().numpy()\n",
                "answer['X_test_normalized.std'] = X_test.std().detach().numpy()\n",
                "\n",
                "print(X_train)\n",
                "print(X_test)"
            ]
        },
        {
            "cell_type": "markdown",
            "metadata": {},
            "source": [
                "Now we should turn our data into vectors to be able to perform forward propagation.\n",
                "\n",
                "For that we will take the last two dimensions and squeeze them into one. This is done using `reshape` method.\n",
                "\n",
                "Note that after that tensor can be turned back using reshape command again.\n",
                "\n",
                "Your initial tensor has shape $N \\times 28 \\times 28$, you have to turn it to $N \\times 28^2$"
            ],
            "outputs": []
        },
        {
            "cell_type": "code",
            "execution_count": null,
            "metadata": {
                "colab": {},
                "colab_type": "code",
                "id": "IUZgNg7zpS3j"
            },
            "outputs": [],
            "source": [
                "\n",
                "answer['X_train.shape2'] = X_train.shape\n",
                "answer['X_test.shape2'] = X_test.shape\n",
                "\n"
            ]
        },
        {
            "cell_type": "markdown",
            "metadata": {},
            "source": [
                "# Task 2: Build a network"
            ],
            "outputs": []
        },
        {
            "cell_type": "markdown",
            "metadata": {},
            "source": [
                "It is time to create our neural network.\n",
                "\n",
                "In pytorch to enable all the magic for training, people enherit their models from `torch.nn.Module`.\n",
                "\n",
                "This enables many utilities that will be used in the future.\n",
                "\n",
                "The main two methods that we have to fill are:\n",
                "- `__init__` method that creates all modules of Neural Network\n",
                "- `__call__` method that is used to calculate preditions\n",
                "\n",
                "Here is the network that you should create:\n",
                "- it should have the structure:\n",
                "    - Linear `28 * 28 -> n_hidden_neurons`\n",
                "    - Sigmoid\n",
                "    - Linear `n_hidden_neurons -> 10`\n",
                "- the signals that you create should traverse the initialized modules according to the order above\n",
                "\n",
                "Note that in theory, we should use a SoftMax activation in the end of this network. But in our case, this activation will be joined with the loss function due to mathematical reasons."
            ],
            "outputs": []
        },
        {
            "cell_type": "code",
            "execution_count": null,
            "metadata": {
                "colab": {},
                "colab_type": "code",
                "id": "k7l65slppS3l"
            },
            "outputs": [],
            "source": [
                "class MNISTNet(torch.nn.Module):\n",
                "    def __init__(self, n_hidden_neurons):\n",
                "        super().__init__()\n",
                "        self.fc1 = ...\n",
                "        self.ac1 = ...\n",
                "        self.fc2 = ...\n",
                "        ## YOUR CODE HERE\n",
                "    \n",
                "    def __call__(self, signal):\n",
                "        ## YOUR CODE HERE\n",
                "        return signal"
            ]
        },
        {
            "cell_type": "markdown",
            "metadata": {},
            "source": [
                "Let us check that your network actually works"
            ],
            "outputs": []
        },
        {
            "cell_type": "code",
            "execution_count": null,
            "metadata": {},
            "outputs": [],
            "source": [
                "mnist_net = MNISTNet(100)\n",
                "check_input = torch.randn(10, 28 * 28)\n",
                "check_output = mnist_net(check_input)\\\n",
                "\n",
                "answer['check_result'] = check_output.detach().numpy()"
            ]
        },
        {
            "cell_type": "markdown",
            "metadata": {},
            "source": [
                "# Task 3: Create loss function and optimizer\n",
                "\n"
            ],
            "outputs": []
        },
        {
            "cell_type": "markdown",
            "metadata": {},
            "source": [
                "Now you have to make a loss function (Cross Entropy with SoftMax in our case) and an optimizer (`AdamW` with learning rate `lr`)"
            ],
            "outputs": []
        },
        {
            "cell_type": "code",
            "execution_count": null,
            "metadata": {
                "colab": {},
                "colab_type": "code",
                "id": "00_2j2igpS3o"
            },
            "outputs": [],
            "source": [
                "## YOUR CODE HERE\n"
            ]
        },
        {
            "cell_type": "code",
            "execution_count": null,
            "metadata": {},
            "outputs": [],
            "source": [
                "answer['loss'] = str(loss)\n",
                "answer['optimizer'] = str(optimizer)\n",
                "\n",
                "print(loss)\n",
                "print(optimizer)"
            ]
        },
        {
            "cell_type": "markdown",
            "metadata": {},
            "source": [
                "# Task 4: Train the network"
            ],
            "outputs": []
        },
        {
            "cell_type": "markdown",
            "metadata": {},
            "source": [
                "Now it is time to train the network\n",
                "\n",
                "I have already created a small loop that shuffles the data.\n",
                "\n",
                "Your task is to create a training cycle for one epoch with the following steps:\n",
                "1. extracts training input and lables from shuffled training data, batch after batch\n",
                "2. switches the network to training state (`model.train()`)(will be important for batchnorms and some other modules)\n",
                "2. generates predictions from the training inputs\n",
                "3. calculates loss function that compares the predictions to the targets\n",
                "4. do backpropagation\n",
                "5. make optimization step  with optimizer\n",
                "6. reset optimizer's gradients\n",
                "7. switches the network to validation state (`model.eval()`)\n",
                "\n",
                "After running one epoch, you should:\n",
                "- make prediction for train and test sets\n",
                "- calculate accuracy for the predictions for both sets\n",
                "- calculate loss function for the predictions for both sets\n",
                "\n",
                "Note that:\n",
                "- it is important to drop the last deficient batch, but we do not do it in this exercise\n",
                "- it is easy to get the class using the prediction vector as it corresponds to the output value with maximal logit"
            ],
            "outputs": []
        },
        {
            "cell_type": "code",
            "execution_count": null,
            "metadata": {
                "colab": {},
                "colab_type": "code",
                "id": "wZtqiGvfpS3r"
            },
            "outputs": [],
            "source": [
                "from tqdm import trange\n",
                "\n",
                "batch_size = 100\n",
                "\n",
                "test_accuracy_history = []\n",
                "test_loss_history = []\n",
                "\n",
                "train_accuracy_history = []\n",
                "train_loss_history = []\n",
                "\n",
                "# X_test = X_test.to(device)\n",
                "# y_test = y_test.to(device)\n",
                "\n",
                "for epoch in trange(5):\n",
                "    order = np.random.permutation(len(X_train))\n",
                "    \n",
                "    for start_index in range(0, len(X_train), batch_size):\n",
                "        ...\n",
                "        ## YOUR EPOCH CODE HERE\n",
                "    \n",
                "    ## YOUR EVALUATION CODE HERE\n",
                "\n",
                "    train_loss_history.append(loss(train_preds, y_train).detach().numpy())\n",
                "    train_accuracy_history.append(train_accuracy.detach().numpy())\n",
                "\n",
                "    test_loss_history.append(loss(test_preds, y_test).detach().numpy())\n",
                "    test_accuracy_history.append(test_accuracy.detach().numpy())\n",
                "    "
            ]
        },
        {
            "cell_type": "code",
            "execution_count": null,
            "metadata": {
                "colab": {},
                "colab_type": "code",
                "id": "kLnumX3SpS3u"
            },
            "outputs": [],
            "source": [
                "plt.plot(train_accuracy_history)\n",
                "plt.plot(test_accuracy_history)"
            ]
        },
        {
            "cell_type": "code",
            "execution_count": null,
            "metadata": {
                "colab": {},
                "colab_type": "code",
                "id": "-nu1318JpS3y"
            },
            "outputs": [],
            "source": [
                "plt.plot(train_loss_history)\n",
                "plt.plot(test_loss_history)"
            ]
        },
        {
            "cell_type": "code",
            "execution_count": null,
            "metadata": {},
            "outputs": [],
            "source": [
                "answer['train_loss_histoory'] = train_loss_history\n",
                "answer['test_loss_history'] = test_loss_history\n",
                "answer['train_acc_history'] = train_accuracy_history\n",
                "answer['test_ann_history'] = test_accuracy_history\n",
                "\n",
                "json_tricks.dump(answer, '.answer.json')"
            ]
        },
        {
            "cell_type": "markdown",
            "metadata": {},
            "source": [
                "# Making the network deep"
            ],
            "outputs": []
        },
        {
            "cell_type": "markdown",
            "metadata": {},
            "source": [
                "We have built a network and a training cycle for it. And it works!\n",
                "\n",
                "In the next exercises we will create all the modules that are required to build deep networks. We will also use batchnormalization in these modules and experiment with them."
            ],
            "outputs": []
        },
        {
            "cell_type": "markdown",
            "metadata": {},
            "source": [
                "# Task 5. Create LinAct block\n",
                "\n",
                "Create a module that contains `torch.Sequential` module with:\n",
                "- Linear layer `n_channels -> n_channels`\n",
                "- Activation function (that is set to `Sigmoid` by default)\n",
                "\n",
                "Create a module `NoResidual` that is able to wrap a block of the network. It should work just like the original module, and its purpose is that we will replace it with `Residual` block in the future.\n",
                "\n",
                "After that, create DeepMNISTNet. This network should contain:\n",
                "- A Linear adapter module to project $28 \\times 28$ pixels to `n_channels`\n",
                "- `n_layers` instances of wrappers, each wrapping 2 sequential `block`-s (with correct number of channels and correct activation function)\n",
                "- A final classifier linear module that projects the signal of `n_channels` to number of classes (10 in our case)"
            ],
            "outputs": []
        },
        {
            "cell_type": "code",
            "execution_count": null,
            "metadata": {},
            "outputs": [],
            "source": [
                "class LinAct(torch.nn.Module):\n",
                "    def __init__(\n",
                "        self, \n",
                "        num_channels,\n",
                "        activation_fn=torch.nn.Sigmoid):\n",
                "\n",
                "        ...\n",
                "        ## YOUR CODE HERE\n",
                "\n",
                "\n",
                "    def __call__(self, signal):\n",
                "        ...\n",
                "        ## YOUR CODE HERE\n",
                "        return signal\n",
                "\n",
                "\n",
                "class NoResidual(torch.nn.Module):\n",
                "    def __init__(self, module):\n",
                "        ...\n",
                "        ## YOUR CODE HERE\n",
                "\n",
                "    def __call__(self, signal):\n",
                "        ...\n",
                "        ## YOUR CODE HERE\n",
                "        return signal\n",
                "\n",
                "\n",
                "class DeepMNISTNet(torch.nn.Module):\n",
                "    def __init__(\n",
                "            self,\n",
                "            n_channels,\n",
                "            n_layers,\n",
                "            block=LinAct,\n",
                "            wrapper=NoResidual,\n",
                "            activation_fn=torch.nn.Sigmoid):\n",
                "        super().__init__()\n",
                "        \n",
                "        ...\n",
                "        ## YOUR CODE HERE\n",
                "    \n",
                "    def __call__(self, signal):\n",
                "        ...\n",
                "        ## YOUR CODE HERE\n",
                "        return signal"
            ]
        },
        {
            "cell_type": "code",
            "execution_count": null,
            "metadata": {},
            "outputs": [],
            "source": [
                "model = DeepMNISTNet(\n",
                "    n_channels=28*28, \n",
                "    n_layers=4)\n",
                "\n",
                "test_input = torch.zeros([10, 28 * 28])\n",
                "test_output = model(test_input)\n",
                "\n",
                "answer['model_deep'] = str(model)\n",
                "answer['test_output_deep'] = test_output.detach().numpy()"
            ]
        },
        {
            "cell_type": "markdown",
            "metadata": {},
            "source": [
                "# Task 6\n",
                "\n",
                "Build a residual wrapper.\n",
                "\n",
                "This layer should wrap any specified module, and the main idea of it should be that if the module works like $\\mathbf f(\\mathbf x)$, then wrapped in residual layer, it should work like $\\mathbf f(\\mathbf x) + \\mathbf x$\n",
                "\n",
                "So, the main question here is how to implement `__call__` method"
            ],
            "outputs": []
        },
        {
            "cell_type": "code",
            "execution_count": null,
            "metadata": {},
            "outputs": [],
            "source": [
                "class Residual(torch.nn.Module):\n",
                "    def __init__(self, model):\n",
                "        ...\n",
                "        ## YOUR CODE HERE\n",
                "\n",
                "    def __call__(self, signal):\n",
                "        ...\n",
                "        ## YOUR CODE HERE\n",
                "        return signal\n"
            ]
        },
        {
            "cell_type": "code",
            "execution_count": null,
            "metadata": {},
            "outputs": [],
            "source": [
                "model = DeepMNISTNet(\n",
                "    n_channels=28*28, \n",
                "    n_layers=4,\n",
                "    wrapper=Residual\n",
                ")\n",
                "\n",
                "test_input = torch.randn([10, 28 * 28])\n",
                "test_output = model(test_input)\n",
                "\n",
                "answer['model_deep_residual'] = str(model)\n",
                "answer['test_output_deep_residual'] = test_output.detach().numpy()"
            ]
        },
        {
            "cell_type": "markdown",
            "metadata": {},
            "source": [
                "# Task 7\n",
                "\n",
                "Build a LinNormAct block that is similar to `LinAct`, but has a normalization module before activation function:\n",
                "- `torch.nn.Linear`\n",
                "- `torch.nn.BatchNorm1d`\n",
                "- activation function"
            ],
            "outputs": []
        },
        {
            "cell_type": "code",
            "execution_count": null,
            "metadata": {},
            "outputs": [],
            "source": [
                "class LinNormAct(torch.nn.Module):\n",
                "    def __init__(\n",
                "        self, \n",
                "        num_channels,\n",
                "        activation_fn=torch.nn.Sigmoid):\n",
                "\n",
                "        ...\n",
                "        ## YOUR CODE HERE\n",
                "\n",
                "    def __call__(self, signal):\n",
                "        return signal\n",
                "\n",
                "\n",
                "model = DeepMNISTNet(\n",
                "    n_channels=28*28, \n",
                "    n_layers=4,\n",
                "    wrapper=Residual,\n",
                "    block=LinNormAct\n",
                ")\n",
                "\n",
                "test_input = torch.randn([10, 28 * 28])\n",
                "test_output = model(test_input)\n",
                "\n",
                "answer['model_deep_residual_linnormact'] = str(model)\n",
                "answer['test_output_deep_residual_linnormact'] = test_output.detach().numpy()"
            ]
        },
        {
            "cell_type": "code",
            "execution_count": null,
            "metadata": {},
            "outputs": [],
            "source": [
                "from pprint import pprint\n",
                "\n",
                "json_tricks.dump(answer, '.answer.json')"
            ]
        },
        {
            "cell_type": "markdown",
            "metadata": {},
            "source": [
                "# Congratulations\n",
                "\n",
                "Here, obligatory part ends. With it, we have prepared the basic script to train our neural network.\n",
                "\n",
                "Nevertheless, we can do a lot of interesting experiments now:\n",
                "\n",
                "- for 100 epochs check, how does the training process go\n",
                "- check, how does the training process go for `n_layers = 1, 2, 4, 8, 16` \n",
                "- for `n_layers=16`, check, whether the network trains with and without residual connections\n",
                "- for the network with `n_layers=16`, add batch normalization layer, and check how the network trains with and without batch normalization\n",
                "- additionally, you can make bottleneck blocks out of residual blocks. Check, how much more are they efficient and how much does the quality drop when the size of internal representation is squeezed twice: `N -> N/2 -> N`\n",
                "- for the best network, add learning rate scheduling such as reduce LR on Plateau\n",
                "- for the best network, use AdamW with LookAhead (can be found as a separate package)\n",
                "\n",
                "To run these experiments, just take your training procedure that we have created, and substitute the model with a model of the interest.\n",
                "\n",
                "With such a simple networks, the experiments potentially can be run on the local machine, but I would recommend uploading this notebook to `Google Colab` and using a GPU (it may cost around 5$/month)\n",
                "\n",
                "Note that to use `CUDA` for your experiments, you have to\n",
                "- move model to `cuda` device using `.cuda()` or `.to()` methods\n",
                "- move batch tensors to `cuda` device the same way\n",
                "\n",
                "To report your results, you can use matplotlib, but there is a better options for machine learning. There are logging systems for ML that are called:\n",
                "- tensorboard\n",
                "- mlflow\n",
                "- weights and biases\n",
                "- neptune ai\n",
                "- and others\n",
                "\n",
                "I would recommend using the first two and maybe the third one. Tensorboard is a powerful tool to visualize the progress of your training process, while mlflow is a nice tool for journaling the experiments"
            ],
            "outputs": []
        },
        {
            "cell_type": "markdown",
            "metadata": {},
            "source": [
                "You can check your solutions submitting your results here:\n",
                "\n",
                "https://www.kaggle.com/competitions/digit-recognizer"
            ],
            "outputs": []
        }
    ],
    "metadata": {
        "accelerator": "GPU",
        "colab": {
            "collapsed_sections": [],
            "name": "Lesson 5 Digits Recognition Video.ipynb",
            "provenance": [],
            "version": "0.3.2"
        },
        "kernelspec": {
            "display_name": "Python 3",
            "language": "python",
            "name": "python3"
        },
        "language_info": {
            "codemirror_mode": {
                "name": "ipython",
                "version": 3
            },
            "file_extension": ".py",
            "mimetype": "text/x-python",
            "name": "python",
            "nbconvert_exporter": "python",
            "pygments_lexer": "ipython3",
            "version": "3.11.12"
        }
    },
    "colab_type": "code",
    "id": "hMhsAedlrQF5",
    "outputId": "ae08bd21-79ff-48da-9886-48996a178110"
   },
   "outputs": [
    {
     "name": "stdout",
     "output_type": "stream",
     "text": [
      "torch.uint8 torch.uint8 torch.int64 torch.int64\n",
      "torch.Size([60000, 28, 28]) torch.Size([10000, 28, 28]) torch.Size([60000]) torch.Size([10000])\n",
      "tensor[60000, 28, 28] u8 n=47040000 (45Mb) x∈[0, 255] μ=33.318 σ=78.567\n",
      "tensor[10000, 28, 28] u8 n=7840000 (7.5Mb) x∈[0, 255] μ=33.791 σ=79.172\n",
      "tensor[60000] i64 0.5Mb x∈[0, 9] μ=4.454 σ=2.889\n",
      "tensor[10000] i64 78Kb x∈[0, 9] μ=4.443 σ=2.896\n"
     ]
    }
   ],
   "source": [
    "answer['X_train.dtype'] = str(X_train.dtype)\n",
    "answer['y_train.dtype'] = str(y_train.dtype)\n",
    "answer['X_train.shape'] = X_train.shape\n",
    "answer['X_test.shape'] = X_test.shape\n",
    "answer['y_train.shape'] = y_train.shape\n",
    "answer['y_test.shape'] = y_test.shape\n",
    "\n",
    "print(X_train.dtype, X_test.dtype, y_train.dtype, y_test.dtype)\n",
    "print(X_train.shape, X_test.shape, y_train.shape, y_test.shape)\n",
    "\n",
    "print(X_train)\n",
    "print(X_test)\n",
    "print(y_train)\n",
    "print(y_test)\n"
   ]
  },
  {
   "cell_type": "markdown",
   "metadata": {},
   "source": [
    "Neural networks are usually trained in float values. Usually in `float32` or `float16`. In this exercise we will use `float32` precision.\n",
    "\n",
    "Convert your data to `float` type"
   ]
  },
  {
   "cell_type": "code",
   "execution_count": 5,
   "metadata": {
    "colab": {},
    "colab_type": "code",
    "id": "_yTaVOrPvap6"
   },
   "outputs": [],
   "source": [
    "X_train = X_train.float()\n",
    "X_test = X_test.float()\n",
    "## YOUR CODE HERE\n"
   ]
  },
  {
   "cell_type": "code",
   "execution_count": 6,
   "metadata": {
    "colab": {
     "base_uri": "https://localhost:8080/",
     "height": 35
    },
    "colab_type": "code",
    "id": "_gfupg4kpS3X",
    "outputId": "e72c3ff4-50f7-4695-d5d5-f838e7ac2667"
   },
   "outputs": [],
   "source": [
    "answer['X_train.dtype2'] = str(X_train.dtype)\n",
    "answer['X_test.dtype2'] = str(X_test.dtype)\n"
   ]
  },
  {
   "cell_type": "markdown",
   "metadata": {},
   "source": [
    "Let us visualize the data that we have"
   ]
  },
  {
   "cell_type": "code",
   "execution_count": 7,
   "metadata": {
    "colab": {
     "base_uri": "https://localhost:8080/",
     "height": 365
    },
    "colab_type": "code",
    "id": "Z1tFXMwJpS3e",
    "outputId": "e7c2778b-d6f5-4718-ea28-fc8544f0416c"
   },
   "outputs": [
    {
     "data": {
      "image/png": "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",
      "text/plain": [
       "<Figure size 640x480 with 1 Axes>"
      ]
     },
     "metadata": {},
     "output_type": "display_data"
    },
    {
     "name": "stdout",
     "output_type": "stream",
     "text": [
      "tensor i64 5\n"
     ]
    }
   ],
   "source": [
    "import matplotlib.pyplot as plt\n",
    "plt.imshow(X_train[0, :, :])\n",
    "plt.show()\n",
    "print(y_train[0])"
   ]
  },
  {
   "cell_type": "markdown",
   "metadata": {},
   "source": [
    "Now we should turn our data into vectors to be able to perform forward propagation.\n",
    "\n",
    "For that we will take the last two dimensions and squeeze them into one. This is done using `reshape` method.\n",
    "\n",
    "Note that after that tensor can be turned back using reshape command again.\n",
    "\n",
    "Your initial tensor has shape $N \\times 28 \\times 28$, you have to turn it to $N \\times 28^2$"
   ]
  },
  {
   "cell_type": "markdown",
   "metadata": {},
   "source": [
    "Before we continue, our data should be normalized. Right now we have image data that was stored in int8 (from 0 to 255), and after transforming it to float, it still is in the same range.\n",
    "\n",
    "What we want is the data that has 0 mean and 1 variance.\n",
    "\n",
    "**Task**\n",
    "Scale and center your data so that it has 0 mean and 1 variance.\n",
    "\n",
    "To calculate mean and standard deviation of colors, use only training dataset!"
   ]
  },
  {
   "cell_type": "code",
   "execution_count": 8,
   "metadata": {},
   "outputs": [
    {
     "name": "stdout",
     "output_type": "stream",
     "text": [
      "tensor[60000, 28, 28] n=47040000 (0.2Gb) x∈[-0.424, 2.822] μ=2.020e-08 σ=1.000\n",
      "tensor[10000, 28, 28] n=7840000 (30Mb) x∈[-0.424, 2.822] μ=0.006 σ=1.008\n",
      "Mean: 2.0199729888759066e-08\n",
      "Std: 1.0\n"
     ]
    }
   ],
   "source": [
    "\n",
    "\n",
    "mean = X_train.mean()\n",
    "std = X_train.std()\n",
    "\n",
    "X_train = (X_train - mean) / std\n",
    "X_test = (X_test - mean) / std\n",
    "\n",
    "## YOUR CODE HERE\n",
    "\n",
    "answer['X_train.mean'] = mean.detach().numpy()\n",
    "answer['X_train.std'] = std.detach().numpy()\n",
    "\n",
    "answer['X_train_normalized.mean'] = X_train.mean().detach().numpy()\n",
    "answer['X_train_normalized.std'] = X_train.std().detach().numpy()\n",
    "\n",
    "answer['X_test_normalized.mean'] = X_test.mean().detach().numpy()\n",
    "answer['X_test_normalized.std'] = X_test.std().detach().numpy()\n",
    "\n",
    "print(X_train)\n",
    "print(X_test)\n",
    "\n",
    "print(\"Mean:\", X_train.mean().item())  # should be ~0\n",
    "print(\"Std:\", X_train.std().item())    # should be ~1\n"
   ]
  },
  {
   "cell_type": "code",
   "execution_count": null,
   "metadata": {
    "colab": {},
    "colab_type": "code",
    "id": "IUZgNg7zpS3j"
   },
   "outputs": [],
   "source": [
    "X_train = X_train.reshape(X_train.shape[0], 28 * 28)\n",
    "X_test = X_test.reshape(X_test.shape[0], 28 * 28)\n",
    "\n",
    "answer['X_train.shape2'] = X_train.shape\n",
    "answer['X_test.shape2'] = X_test.shape\n",
    "\n"
   ]
  },
  {
   "cell_type": "markdown",
   "metadata": {},
   "source": [
    "# Task 2: Build a network"
   ]
  },
  {
   "cell_type": "markdown",
   "metadata": {},
   "source": [
    "It is time to create our neural network.\n",
    "\n",
    "In pytorch to enable all the magic for training, people enherit their models from `torch.nn.Module`.\n",
    "\n",
    "This enables many utilities that will be used in the future.\n",
    "\n",
    "The main two methods that we have to fill are:\n",
    "- `__init__` method that creates all modules of Neural Network\n",
    "- `__call__` method that is used to calculate preditions\n",
    "\n",
    "Here is the network that you should create:\n",
    "- it should have the structure:\n",
    "    - Linear `28 * 28 -> n_hidden_neurons`\n",
    "    - Sigmoid\n",
    "    - Linear `n_hidden_neurons -> 10`\n",
    "- the signals that you create should traverse the initialized modules according to the order above\n",
    "\n",
    "Note that in theory, we should use a SoftMax activation in the end of this network. But in our case, this activation will be joined with the loss function due to mathematical reasons."
   ]
  },
  {
   "cell_type": "code",
   "execution_count": null,
   "metadata": {
    "colab": {},
    "colab_type": "code",
    "id": "k7l65slppS3l"
   },
   "outputs": [],
   "source": [
    "class MNISTNet(torch.nn.Module):\n",
    "    def __init__(self, n_hidden_neurons):\n",
    "        super().__init__()\n",
    "\n",
    "        ## YOUR CODE HERE\n",
    "        self.fc1 = torch.nn.Linear(28 * 28, n_hidden_neurons)\n",
    "        self.ac1 = torch.nn.Sigmoid()\n",
    "        self.fc2 = torch.nn.Linear(n_hidden_neurons, 10)\n",
    "        \n",
    "    \n",
    "    def __call__(self, signal):\n",
    "\n",
    "        ## YOUR CODE HERE\n",
    "        signal = self.fc1(signal)\n",
    "        signal = self.ac1(signal)\n",
    "        signal = self.fc2(signal)\n",
    "\n",
    "\n",
    "        return signal"
   ]
  },
  {
   "cell_type": "markdown",
   "metadata": {},
   "source": [
    "Let us check that your network actually works"
   ]
  },
  {
   "cell_type": "code",
   "execution_count": null,
   "metadata": {},
   "outputs": [],
   "source": [
    "mnist_net = MNISTNet(100)\n",
    "check_input = torch.randn(10, 28 * 28)\n",
    "check_output = mnist_net(check_input)\\\n",
    "\n",
    "answer['check_result'] = check_output.detach().numpy()"
   ]
  },
  {
   "cell_type": "markdown",
   "metadata": {},
   "source": [
    "# Task 3: Create loss function and optimizer\n",
    "\n"
   ]
  },
  {
   "cell_type": "markdown",
   "metadata": {},
   "source": [
    "Now you have to make a loss function (Cross Entropy with SoftMax in our case) and an optimizer (`AdamW` with learning rate `lr`)"
   ]
  },
  {
   "cell_type": "code",
   "execution_count": null,
   "metadata": {
    "colab": {},
    "colab_type": "code",
    "id": "00_2j2igpS3o"
   },
   "outputs": [],
   "source": [
    "## YOUR CODE HERE\n",
    "learning_rate = 1e-3\n",
    "loss = torch.nn.CrossEntropyLoss()\n",
    "optimizer = torch.optim.AdamW(mnist_net.parameters(), lr=learning_rate)\n"
   ]
  },
  {
   "cell_type": "code",
   "execution_count": null,
   "metadata": {},
   "outputs": [],
   "source": [
    "answer['loss'] = str(loss)\n",
    "answer['optimizer'] = str(optimizer)\n",
    "\n",
    "print(loss)\n",
    "print(optimizer)"
   ]
  },
  {
   "cell_type": "markdown",
   "metadata": {},
   "source": [
    "# Task 4: Train the network"
   ]
  },
  {
   "cell_type": "markdown",
   "metadata": {},
   "source": [
    "Now it is time to train the network\n",
    "\n",
    "I have already created a small loop that shuffles the data.\n",
    "\n",
    "Your task is to create a training cycle for one epoch with the following steps:\n",
    "1. extracts training input and lables from shuffled training data, batch after batch\n",
    "2. switches the network to training state (`model.train()`)(will be important for batchnorms and some other modules)\n",
    "2. generates predictions from the training inputs\n",
    "3. calculates loss function that compares the predictions to the targets\n",
    "4. do backpropagation\n",
    "5. make optimization step  with optimizer\n",
    "6. reset optimizer's gradients\n",
    "7. switches the network to validation state (`model.eval()`)\n",
    "\n",
    "After running one epoch, you should:\n",
    "- make prediction for train and test sets\n",
    "- calculate accuracy for the predictions for both sets\n",
    "- calculate loss function for the predictions for both sets\n",
    "\n",
    "Note that:\n",
    "- it is important to drop the last deficient batch, but we do not do it in this exercise\n",
    "- it is easy to get the class using the prediction vector as it corresponds to the output value with maximal logit"
   ]
  },
  {
   "cell_type": "code",
   "execution_count": null,
   "metadata": {
    "colab": {},
    "colab_type": "code",
    "id": "wZtqiGvfpS3r"
   },
   "outputs": [],
   "source": [
    "from tqdm import trange\n",
    "\n",
    "batch_size = 100\n",
    "\n",
    "test_accuracy_history = []\n",
    "test_loss_history = []\n",
    "\n",
    "train_accuracy_history = []\n",
    "train_loss_history = []\n",
    "\n",
    "# X_test = X_test.to(device)\n",
    "# y_test = y_test.to(device)\n",
    "\n",
    "for epoch in trange(5):\n",
    "    order = np.random.permutation(len(X_train))\n",
    "    # ------------------------\n",
    "    for start_index in range(0, len(X_train), batch_size):\n",
    "        ## YOUR EPOCH CODE HERE\n",
    "        batch_indexes = order[start_index:start_index + batch_size]\n",
    "\n",
    "        x_batch = X_train[batch_indexes]\n",
    "        y_batch = y_train[batch_indexes]\n",
    "\n",
    "        mnist_net.train()\n",
    "\n",
    "        preds = mnist_net(x_batch)\n",
    "        batch_loss = loss(preds, y_batch)\n",
    "\n",
    "        optimizer.zero_grad()\n",
    "\n",
    "        batch_loss.backward()\n",
    "        \n",
    "        optimizer.step()\n",
    "\n",
    "        \n",
    "    ## YOUR EVALUATION CODE HERE\n",
    "    mnist_net.eval()\n",
    "\n",
    "    with torch.no_grad():\n",
    "        train_preds = mnist_net(X_train)\n",
    "        test_preds = mnist_net(X_test)\n",
    "\n",
    "        train_pred_labels = train_preds.argmax(dim=1)\n",
    "        test_pred_labels = test_preds.argmax(dim=1)\n",
    "\n",
    "        train_accuracy = (train_pred_labels == y_train).float().mean()\n",
    "        test_accuracy = (test_pred_labels == y_test).float().mean()\n",
    "\n",
    "    # ------------------------\n",
    "    train_loss_history.append(loss(train_preds, y_train).detach().numpy())\n",
    "    train_accuracy_history.append(train_accuracy.detach().numpy())\n",
    "\n",
    "    test_loss_history.append(loss(test_preds, y_test).detach().numpy())\n",
    "    test_accuracy_history.append(test_accuracy.detach().numpy())\n",
    "    "
   ]
  },
  {
   "cell_type": "code",
   "execution_count": null,
   "metadata": {
    "colab": {},
    "colab_type": "code",
    "id": "kLnumX3SpS3u"
   },
   "outputs": [],
   "source": [
    "plt.plot(train_accuracy_history)\n",
    "plt.plot(test_accuracy_history)"
   ]
  },
  {
   "cell_type": "code",
   "execution_count": null,
   "metadata": {
    "colab": {},
    "colab_type": "code",
    "id": "-nu1318JpS3y"
   },
   "outputs": [],
   "source": [
    "plt.plot(train_loss_history)\n",
    "plt.plot(test_loss_history)"
   ]
  },
  {
   "cell_type": "code",
   "execution_count": null,
   "metadata": {},
   "outputs": [],
   "source": [
    "answer['train_loss_histoory'] = train_loss_history\n",
    "answer['test_loss_history'] = test_loss_history\n",
    "answer['train_acc_history'] = train_accuracy_history\n",
    "answer['test_ann_history'] = test_accuracy_history\n",
    "\n",
    "json_tricks.dump(answer, '.answer.json')"
   ]
  },
  {
   "cell_type": "markdown",
   "metadata": {},
   "source": [
    "# Making the network deep"
   ]
  },
  {
   "cell_type": "markdown",
   "metadata": {},
   "source": [
    "We have built a network and a training cycle for it. And it works!\n",
    "\n",
    "In the next exercises we will create all the modules that are required to build deep networks. We will also use batchnormalization in these modules and experiment with them."
   ]
  },
  {
   "cell_type": "markdown",
   "metadata": {},
   "source": [
    "# Task 5. Create LinAct block\n",
    "\n",
    "Create a module that contains `torch.Sequential` module with:\n",
    "- Linear layer `n_channels -> n_channels`\n",
    "- Activation function (that is set to `Sigmoid` by default)\n",
    "\n",
    "Create a module `NoResidual` that is able to wrap a block of the network. It should work just like the original module, and its purpose is that we will replace it with `Residual` block in the future.\n",
    "\n",
    "After that, create DeepMNISTNet. This network should contain:\n",
    "- A Linear adapter module to project $28 \\times 28$ pixels to `n_channels`\n",
    "- `n_layers` instances of wrappers, each wrapping 2 sequential `block`-s (with correct number of channels and correct activation function)\n",
    "- A final classifier linear module that projects the signal of `n_channels` to number of classes (10 in our case)"
   ]
  },
  {
   "cell_type": "code",
   "execution_count": null,
   "metadata": {},
   "outputs": [],
   "source": [
    "class LinAct(torch.nn.Module):\n",
    "    def __init__(self, num_channels,activation_fn=torch.nn.Sigmoid):\n",
    "      super().__init__()\n",
    "      self.linear = torch.nn.Linear(num_channels, num_channels)\n",
    "      self.activation = activation_fn()\n",
    "\n",
    "    def __call__(self, signal):\n",
    "      signal = self.linear(signal)\n",
    "      signal = self.activation(signal)\n",
    "      return signal\n",
    "\n",
    "\n",
    "class NoResidual(torch.nn.Module):\n",
    "    def __init__(self, module):\n",
    "        super().__init__()\n",
    "        self.module = module\n",
    "\n",
    "    def __call__(self, signal):\n",
    "        signal = self.module(signal)\n",
    "        return signal\n",
    "\n",
    "\n",
    "class DeepMNISTNet(torch.nn.Module):\n",
    "    def __init__(\n",
    "            self,\n",
    "            n_channels,\n",
    "            n_layers,\n",
    "            block=LinAct,\n",
    "            wrapper=NoResidual,\n",
    "            activation_fn=torch.nn.Sigmoid):\n",
    "      \n",
    "        super().__init__()\n",
    "        \n",
    "        self.linear_adapter = torch.nn.Linear(28 * 28, n_channels)\n",
    "        self.layers = torch.nn.ModuleList()\n",
    "        for _ in range(n_layers):\n",
    "            self.layers.append(wrapper(block(n_channels, activation_fn)))\n",
    "        self.classifier = torch.nn.Linear(n_channels, 10)\n",
    "    \n",
    "    def __call__(self, signal):\n",
    "        signal = self.linear_adapter(signal)\n",
    "        for layer in self.layers:\n",
    "            signal = layer(signal)\n",
    "        signal = self.classifier(signal)\n",
    "        return signal"
   ]
  },
  {
   "cell_type": "code",
   "execution_count": null,
   "metadata": {},
   "outputs": [],
   "source": [
    "model = DeepMNISTNet(\n",
    "    n_channels=28*28, \n",
    "    n_layers=4)\n",
    "\n",
    "test_input = torch.zeros([10, 28 * 28])\n",
    "test_output = model(test_input)\n",
    "\n",
    "answer['model_deep'] = str(model)\n",
    "answer['test_output_deep'] = test_output.detach().numpy()"
   ]
  },
  {
   "cell_type": "markdown",
   "metadata": {},
   "source": [
    "# Task 6\n",
    "\n",
    "Build a residual wrapper.\n",
    "\n",
    "This layer should wrap any specified module, and the main idea of it should be that if the module works like $\\mathbf f(\\mathbf x)$, then wrapped in residual layer, it should work like $\\mathbf f(\\mathbf x) + \\mathbf x$\n",
    "\n",
    "So, the main question here is how to implement `__call__` method"
   ]
  },
  {
   "cell_type": "code",
   "execution_count": null,
   "metadata": {},
   "outputs": [],
   "source": [
    "class Residual(torch.nn.Module):\n",
    "    def __init__(self, model):\n",
    "        super().__init__()\n",
    "        self.model = model\n",
    "\n",
    "    def __call__(self, signal):\n",
    "        \n",
    "        signal = self.model(signal) + signal\n",
    "        \n",
    "        return signal\n"
   ]
  },
  {
   "cell_type": "code",
   "execution_count": null,
   "metadata": {},
   "outputs": [],
   "source": [
    "model = DeepMNISTNet(\n",
    "    n_channels=28*28, \n",
    "    n_layers=4,\n",
    "    wrapper=Residual\n",
    ")\n",
    "\n",
    "test_input = torch.randn([10, 28 * 28])\n",
    "test_output = model(test_input)\n",
    "\n",
    "answer['model_deep_residual'] = str(model)\n",
    "answer['test_output_deep_residual'] = test_output.detach().numpy()"
   ]
  },
  {
   "cell_type": "markdown",
   "metadata": {},
   "source": [
    "# Task 7\n",
    "\n",
    "Build a LinNormAct block that is similar to `LinAct`, but has a normalization module before activation function:\n",
    "- `torch.nn.Linear`\n",
    "- `torch.nn.BatchNorm1d`\n",
    "- activation function"
   ]
  },
  {
   "cell_type": "code",
   "execution_count": null,
   "metadata": {},
   "outputs": [],
   "source": [
    "class LinNormAct(torch.nn.Module):\n",
    "    def __init__(\n",
    "        self, \n",
    "        num_channels,\n",
    "        activation_fn=torch.nn.Sigmoid):\n",
    "        super().__init__()\n",
    "\n",
    "        self.linear = torch.nn.Linear(num_channels, num_channels)\n",
    "        self.norm = torch.nn.BatchNorm1d(num_channels)\n",
    "        self.activation = activation_fn()\n",
    "\n",
    "    def __call__(self, signal):\n",
    "        return signal\n",
    "\n",
    "\n",
    "model = DeepMNISTNet(\n",
    "    n_channels=28*28, \n",
    "    n_layers=4,\n",
    "    wrapper=Residual,\n",
    "    block=LinNormAct\n",
    ")\n",
    "\n",
    "test_input = torch.randn([10, 28 * 28])\n",
    "test_output = model(test_input)\n",
    "\n",
    "answer['model_deep_residual_linnormact'] = str(model)\n",
    "answer['test_output_deep_residual_linnormact'] = test_output.detach().numpy()"
   ]
  },
  {
   "cell_type": "code",
   "execution_count": null,
   "metadata": {},
   "outputs": [],
   "source": [
    "from pprint import pprint\n",
    "\n",
    "json_tricks.dump(answer, '.answer.json')"
   ]
  },
  {
   "cell_type": "markdown",
   "metadata": {},
   "source": [
    "# Congratulations\n",
    "\n",
    "Here, obligatory part ends. With it, we have prepared the basic script to train our neural network.\n",
    "\n",
    "Nevertheless, we can do a lot of interesting experiments now:\n",
    "\n",
    "- for 100 epochs check, how does the training process go\n",
    "- check, how does the training process go for `n_layers = 1, 2, 4, 8, 16` \n",
    "- for `n_layers=16`, check, whether the network trains with and without residual connections\n",
    "- for the network with `n_layers=16`, add batch normalization layer, and check how the network trains with and without batch normalization\n",
    "- additionally, you can make bottleneck blocks out of residual blocks. Check, how much more are they efficient and how much does the quality drop when the size of internal representation is squeezed twice: `N -> N/2 -> N`\n",
    "- for the best network, add learning rate scheduling such as reduce LR on Plateau\n",
    "- for the best network, use AdamW with LookAhead (can be found as a separate package)\n",
    "\n",
    "To run these experiments, just take your training procedure that we have created, and substitute the model with a model of the interest.\n",
    "\n",
    "With such a simple networks, the experiments potentially can be run on the local machine, but I would recommend uploading this notebook to `Google Colab` and using a GPU (it may cost around 5$/month)\n",
    "\n",
    "Note that to use `CUDA` for your experiments, you have to\n",
    "- move model to `cuda` device using `.cuda()` or `.to()` methods\n",
    "- move batch tensors to `cuda` device the same way\n",
    "\n",
    "To report your results, you can use matplotlib, but there is a better options for machine learning. There are logging systems for ML that are called:\n",
    "- tensorboard\n",
    "- mlflow\n",
    "- weights and biases\n",
    "- neptune ai\n",
    "- and others\n",
    "\n",
    "I would recommend using the first two and maybe the third one. Tensorboard is a powerful tool to visualize the progress of your training process, while mlflow is a nice tool for journaling the experiments"
   ]
  },
  {
   "cell_type": "markdown",
   "metadata": {},
   "source": [
    "You can check your solutions submitting your results here:\n",
    "\n",
    "https://www.kaggle.com/competitions/digit-recognizer"
   ]
  }
 ],
 "metadata": {
  "accelerator": "GPU",
  "colab": {
   "collapsed_sections": [],
   "name": "Lesson 5 Digits Recognition Video.ipynb",
   "provenance": [],
   "version": "0.3.2"
  },
  "kernelspec": {
   "display_name": "Python (Container)",
   "language": "python",
   "name": "container_env"
  },
  "language_info": {
   "codemirror_mode": {
    "name": "ipython",
    "version": 3
   },
   "file_extension": ".py",
   "mimetype": "text/x-python",
   "name": "python",
   "nbconvert_exporter": "python",
   "pygments_lexer": "ipython3",
   "version": "3.11.11"
  }
 },
 "nbformat": 4,
 "nbformat_minor": 1
}
