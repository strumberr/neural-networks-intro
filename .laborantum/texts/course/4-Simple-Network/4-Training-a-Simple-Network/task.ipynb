{
    "cells": [
        {
            "cell_type": "code",
            "execution_count": 1,
            "metadata": {},
            "outputs": [],
            "source": [
                "import json_tricks\n",
                "import torch\n",
                "import numpy as np\n",
                "import matplotlib.pyplot as plt\n",
                "import random\n",
                "\n",
                "# This is important for reproducibility\n",
                "random.seed(42)\n",
                "np.random.seed(42)\n",
                "torch.manual_seed(42)\n",
                "\n",
                "if torch.cuda.is_available():\n",
                "    torch.cuda.manual_seed(42)\n",
                "\n",
                "answer = {}"
            ]
        },
        {
            "attachments": {},
            "cell_type": "markdown",
            "metadata": {},
            "source": [
                "# Preparation"
            ],
            "outputs": []
        },
        {
            "attachments": {},
            "cell_type": "markdown",
            "metadata": {},
            "source": [
                "In this notebook we will be working on toy problem of reconstructing the hidden \n",
                "dependency. We will work with synthetic dataset. As a basic example, we will\n",
                "start with data\n",
                "\n",
                "$$f(x) = \\sin(x) + \\epsilon,$$\n",
                "\n",
                "where $\\epsilon$ is random noise that will simulate measurement inaccuracies.\n",
                "\n",
                "Our task will be to prepare the network $Net(x)$ that will accept single value $x$\n",
                "as an argument and yield single value $y$ as a forecast.\n",
                "\n",
                "Ideally the network should be as close to the hidden dependency as possible:\n",
                "\n",
                "$$Net(x) \\rightarrow \\sin(x)$$\n",
                "\n",
                "We will create all the modules that are necessary to train a network:\n",
                "- network (2 layer FCNN)\n",
                "- loss function (MSE)\n",
                "- optimizer (AdamW)\n",
                "\n",
                "We will also create a traingin cycle that consists of:\n",
                "- forward step\n",
                "- loss calculation\n",
                "- backpropagation\n",
                "- optimizer step"
            ],
            "outputs": []
        },
        {
            "attachments": {},
            "cell_type": "markdown",
            "metadata": {},
            "source": [
                "# Generating the dataset"
            ],
            "outputs": []
        },
        {
            "attachments": {},
            "cell_type": "markdown",
            "metadata": {},
            "source": [
                "First we will generate the clean samples"
            ],
            "outputs": []
        },
        {
            "cell_type": "code",
            "execution_count": 2,
            "metadata": {},
            "outputs": [],
            "source": [
                "import torch\n",
                "import matplotlib.pyplot as plt\n",
                "\n",
                "import matplotlib\n",
                "matplotlib.rcParams['figure.figsize'] = (10.0, 5.0)\n",
                "\n",
                "x_train = torch.rand(100)\n",
                "x_train = x_train * 20.0 - 10.0\n",
                "\n",
                "y_train = torch.sin(x_train)\n",
                "\n",
                "plt.plot(x_train.numpy(), y_train.numpy(), 'o')\n",
                "plt.title('$y = sin(x)$');"
            ]
        },
        {
            "attachments": {},
            "cell_type": "markdown",
            "metadata": {},
            "source": [
                "Secondly, generate the noise that will be added to the training data"
            ],
            "outputs": []
        },
        {
            "cell_type": "code",
            "execution_count": 3,
            "metadata": {},
            "outputs": [],
            "source": [
                "noise = torch.randn(y_train.shape) / 10.\n",
                "\n",
                "plt.plot(x_train.numpy(), noise.numpy(), 'o')\n",
                "plt.axis([-10, 10, -1, 1])\n",
                "plt.title('Gaussian noise');"
            ]
        },
        {
            "attachments": {},
            "cell_type": "markdown",
            "metadata": {},
            "source": [
                "Lastly, add the noise to the clean data and get the spoiled data that we will use for training"
            ],
            "outputs": []
        },
        {
            "cell_type": "code",
            "execution_count": 4,
            "metadata": {},
            "outputs": [],
            "source": [
                "y_train = y_train + noise\n",
                "plt.plot(x_train.numpy(), y_train.numpy(), 'o')\n",
                "plt.title('noisy sin(x)')\n",
                "plt.xlabel('x_train')\n",
                "plt.ylabel('y_train');"
            ]
        },
        {
            "cell_type": "code",
            "execution_count": 5,
            "metadata": {},
            "outputs": [],
            "source": [
                "x_train.unsqueeze_(1);\n",
                "y_train.unsqueeze_(1);"
            ]
        },
        {
            "cell_type": "markdown",
            "metadata": {},
            "source": [
                "# Validation dataset"
            ],
            "outputs": []
        },
        {
            "attachments": {},
            "cell_type": "markdown",
            "metadata": {},
            "source": [
                "For validation we will use only clean equidistant data. Thus we will not generate noise for this set."
            ],
            "outputs": []
        },
        {
            "cell_type": "code",
            "execution_count": 6,
            "metadata": {},
            "outputs": [],
            "source": [
                "x_validation = torch.linspace(-10, 10, 100)\n",
                "y_validation = torch.sin(x_validation.data)\n",
                "plt.plot(x_validation.numpy(), y_validation.numpy(), 'o')\n",
                "plt.title('sin(x)')\n",
                "plt.xlabel('x_validation')\n",
                "plt.ylabel('y_validation');"
            ]
        },
        {
            "cell_type": "code",
            "execution_count": 7,
            "metadata": {},
            "outputs": [],
            "source": [
                "x_validation.unsqueeze_(1)\n",
                "y_validation.unsqueeze_(1);"
            ]
        },
        {
            "cell_type": "markdown",
            "metadata": {},
            "source": [
                "# Model construction"
            ],
            "outputs": []
        },
        {
            "attachments": {},
            "cell_type": "markdown",
            "metadata": {},
            "source": [
                "Fill out the class for 2-layer Feed Forward Neural Network with Sigmoid hidden layer.\n",
                "\n",
                "Class should consist of two methods:\n",
                "* `__init__` -- constructor, where the layers should be defined:\n",
                "    * `Linear 1 -> n_hidden_neurons`\n",
                "    * `sigmoid` activation\n",
                "    * `Linear n_hidden_neurons -> 1`\n",
                "* `forward` -- pass the signal through the network:\n",
                "    * `x -> linear 1 -> sigmoid -> linear 2`"
            ],
            "outputs": []
        },
        {
            "cell_type": "code",
            "execution_count": 8,
            "metadata": {},
            "outputs": [],
            "source": [
                "class SineNet(torch.nn.Module):\n",
                "    def __init__(self, n_hidden_neurons):\n",
                "        ...\n",
                "        ## YOUR CODE HERE ##\n",
                "\n",
                "    def forward(self, x):\n",
                "        ...\n",
                "        ## YOUR CODE HERE ##\n",
                "        return x\n",
                "\n",
                "sine_net = SineNet(20)"
            ]
        },
        {
            "cell_type": "markdown",
            "metadata": {},
            "source": [
                "# Prediction"
            ],
            "outputs": []
        },
        {
            "attachments": {},
            "cell_type": "markdown",
            "metadata": {},
            "source": [
                "Here we will make prediction using our neural network. The main method here is `forward` that we have programmed within our `torch.Module` class.\n",
                "\n",
                "Below we will plot out predictions to understand how they are related to the validation data."
            ],
            "outputs": []
        },
        {
            "cell_type": "code",
            "execution_count": 9,
            "metadata": {},
            "outputs": [],
            "source": [
                "y_pred = sine_net.forward(x_validation)\n",
                "answer['init_pred'] = y_pred.detach().numpy()\n",
                "\n",
                "def predict(net, x, y):\n",
                "    y_pred = net.forward(x)\n",
                "\n",
                "    plt.plot(x.numpy(), y.numpy(), 'o', label='Groud truth')\n",
                "    plt.plot(x.numpy(), y_pred.data.numpy(), 'o', c='r', label='Prediction');\n",
                "    plt.legend(loc='upper left')\n",
                "    plt.xlabel('$x$')\n",
                "    plt.ylabel('$y$')\n",
                "\n",
                "predict(sine_net, x_validation, y_validation)"
            ]
        },
        {
            "attachments": {},
            "cell_type": "markdown",
            "metadata": {},
            "source": [
                "We see that the untrained neural network predict something, maybe even some dependency, but it is not related to the dependency that we want to reconstruct. \n",
                "\n",
                "Now let us train the network (tune the parameters to minimize the misfit between the labels and predictions)."
            ],
            "outputs": []
        },
        {
            "cell_type": "markdown",
            "metadata": {},
            "source": [
                "# Loss function"
            ],
            "outputs": []
        },
        {
            "attachments": {},
            "cell_type": "markdown",
            "metadata": {},
            "source": [
                "Now we will define the function using which we will measure the misfit.\n",
                "\n",
                "The requirements for this function are:\n",
                "* the lower the loss is the better the predictions are\n",
                "* slope should be non-zero for the majority of the locations\n",
                "\n",
                "In our case it will be mean squared error:\n",
                "$$\\frac{1}{N} \\sum_{i=1}^N \\left(Net(x_i) - t_i\\right)^2$$\n",
                "\n",
                "The lower this deviation is, the closer the prediction of the Neural Network to target.\n",
                "\n",
                "Code this loss function. Note that `pred` and `target` are the vectors."
            ],
            "outputs": []
        },
        {
            "cell_type": "code",
            "execution_count": null,
            "metadata": {},
            "outputs": [],
            "source": [
                "def loss(pred, target):\n",
                "    ...\n",
                "    ## YOUR CODE HERE ##\n",
                "\n",
                "answer['loss'] = [loss(torch.tensor([v]), torch.tensor([0])).detach().numpy() for v in np.linspace(-10, 10, 100)]"
            ]
        },
        {
            "cell_type": "markdown",
            "metadata": {},
            "source": [
                "# Optimizer"
            ],
            "outputs": []
        },
        {
            "attachments": {},
            "cell_type": "markdown",
            "metadata": {},
            "source": [
                "Now we have to tune the parameters minimising the loss function. Select `AdamW` optimizer from `torch.optim`.\n",
                "\n",
                "As a first argument you should pass which parameters the optimizer should take care of. One can access whole set of parameters of `torch.Module` using `parameters()` method.\n",
                "\n",
                "Set `lr` (learning rate) to `1.0e-2`."
            ],
            "outputs": []
        },
        {
            "cell_type": "code",
            "execution_count": 11,
            "metadata": {},
            "outputs": [],
            "source": [
                "## YOUR CODE HERE ##\n"
            ]
        },
        {
            "cell_type": "markdown",
            "metadata": {},
            "source": [
                "# Training procedure"
            ],
            "outputs": []
        },
        {
            "attachments": {},
            "cell_type": "markdown",
            "metadata": {},
            "source": [
                "Now everything is ready for training.\n",
                "\n",
                "Compound the training cycle out of the following step:\n",
                "1. reset the gradients for trainable weights (`zero_grad()` method of the optimizer)\n",
                "2. forward signal propagation through the network (take vector of input signals `x_train` and call `forward` method of the `torch.nn.Module` with that `x_train` as an argument)\n",
                "3. loss value comutation (take`loss` that we have created above and comute misfit of prediction and target labels `y_train`)\n",
                "4. backpropagation through the network, computation of loss derivatives through every of the weights of the network (`backward` method of `torch.nn.Module`)\n",
                "5. optimizer step as all of the gradients for every of the weights are known (`step` method of the `Optimizer`)\n",
                "\n",
                "Repeat the steps above for some amount of times. Say, for `1000` and observe the change of the network predictions"
            ],
            "outputs": []
        },
        {
            "cell_type": "code",
            "execution_count": 12,
            "metadata": {},
            "outputs": [],
            "source": [
                "from tqdm import trange\n",
                "for epoch_index in trange(2000):\n",
                "    ...\n",
                "    ## YOUR CODE HERE ##\n",
                "\n",
                "y_pred = sine_net.forward(x_validation)\n",
                "answer['trained_pred'] = y_pred.detach().numpy()\n",
                "\n",
                "predict(sine_net, x_validation, y_validation)"
            ]
        },
        {
            "attachments": {},
            "cell_type": "markdown",
            "metadata": {},
            "source": [
                "# Conclusion"
            ],
            "outputs": []
        },
        {
            "attachments": {},
            "cell_type": "markdown",
            "metadata": {},
            "source": [
                "In this notebook we have covered all of the steps that the coder encounters while programming training procedure of a Neural Network.\n",
                "\n",
                "In serious projects every part of this process contatins tonns of code, but the philosophy everywhere is the same:\n",
                "\n",
                "* Get data\n",
                "* Define the Network\n",
                "* Define Loss\n",
                "* Select optimizer\n",
                "* Run training cycle"
            ],
            "outputs": []
        },
        {
            "cell_type": "code",
            "execution_count": null,
            "metadata": {},
            "outputs": [],
            "source": [
                "json_tricks.dump(answer, open('.answer.json', 'w'))"
            ]
        }
    ],
    "metadata": {
        "anaconda-cloud": {},
        "kernelspec": {
            "display_name": "Python 3",
            "language": "python",
            "name": "python3"
        },
        "language_info": {
            "codemirror_mode": {
                "name": "ipython",
                "version": 3
            },
            "file_extension": ".py",
            "mimetype": "text/x-python",
            "name": "python",
            "nbconvert_exporter": "python",
            "pygments_lexer": "ipython3",
            "version": "3.11.12"
        }
    },
    "nbformat": 4,
    "nbformat_minor": 4
}