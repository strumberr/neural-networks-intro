{
 "cells": [
  {
   "cell_type": "code",
   "execution_count": 1,
   "metadata": {},
   "outputs": [],
   "source": [
    "import json_tricks\n",
    "answer = {}\n",
    "\n",
    "\n",
    "inputs = json_tricks.load(open('inputs.json', 'r'))"
   ]
  },
  {
   "cell_type": "markdown",
   "metadata": {},
   "source": [
    "# Backpropagaion Practice"
   ]
  },
  {
   "cell_type": "markdown",
   "metadata": {},
   "source": [
    "You are given a graph of operations:"
   ]
  },
  {
   "cell_type": "markdown",
   "metadata": {},
   "source": [
    "<img src=\"imgs/task_2_4_graph_02.png\" width=\"400\" height=\"300\" />"
   ]
  },
  {
   "cell_type": "markdown",
   "metadata": {},
   "source": [
    "# Task 1\n",
    "\n",
    "Write function that calculates value of this graph for any given input vector `x` and set of coefficients $b_1, b_2, c_1, c_2$ packed as vector of weights `w`.\n",
    "In this function also return all the $z$ values."
   ]
  },
  {
   "cell_type": "code",
   "execution_count": null,
   "metadata": {},
   "outputs": [],
   "source": [
    "import numpy as np\n",
    "\n",
    "## YOU CAN DEFINE ANY FUNCTIONS YOU NEED ##\n",
    "\n",
    "def sigmoid(x):\n",
    "    return 1 / (1 + np.exp(-x))\n",
    "\n",
    "def graph_value(x, w):\n",
    "    print(\"graph_value\", x, w)\n",
    "\n",
    "    x1, x2 = x\n",
    "    b1, b2, c1, c2 = w\n",
    "\n",
    "    # also posible like this:\n",
    "    # z['z1'] = x1 + b1\n",
    "    # z['z2'] = x2 + b2\n",
    "    # z['z3'] = sigmoid(z['z1'])\n",
    "    # z['z4'] = sigmoid(z['z2'])\n",
    "    # z['z5'] = np.tanh(z['z4'])\n",
    "    # z['z6'] = z['z5'] * c2\n",
    "    # z['z7'] = z['z1'] * z['z3']\n",
    "    # z['z8'] = z['z7'] * c1\n",
    "    # z['z9'] = z['z3'] * z['z6']\n",
    "    # y = z['z8'] + z['z9']\n",
    "\n",
    "    z = []\n",
    "    z.append(x1 + b1)\n",
    "    z.append(x2 + b2)\n",
    "\n",
    "    z.append(sigmoid(z[0]))\n",
    "    z.append(sigmoid(z[1])) \n",
    "    z.append(np.tanh(z[3]))\n",
    "\n",
    "    z.append(z[4] * c2)\n",
    "    z.append(z[0] * z[2])\n",
    "    z.append(z[6] * c1)\n",
    "    z.append(z[2] * z[5])\n",
    "\n",
    "    y = z[7] + z[8]\n",
    "\n",
    "    return y, z"
   ]
  },
  {
   "cell_type": "code",
   "execution_count": 9,
   "metadata": {},
   "outputs": [
    {
     "name": "stdout",
     "output_type": "stream",
     "text": [
      "graph_value [ 0.49671415 -0.1382643 ] [ 0.64768854  1.52302986 -0.23415337 -0.23413696]\n",
      "graph_value [1.57921282 0.76743473] [-0.46947439  0.54256004 -0.46341769 -0.46572975]\n",
      "graph_value [ 0.24196227 -1.91328024] [-1.72491783 -0.56228753 -1.01283112  0.31424733]\n",
      "graph_value [-0.90802408 -1.4123037 ] [ 1.46564877 -0.2257763   0.0675282  -1.42474819]\n",
      "graph_value [-0.54438272  0.11092259] [-1.15099358  0.37569802 -0.60063869 -0.29169375]\n",
      "graph_value [-0.60170661  1.85227818] [-0.01349722 -1.05771093  0.82254491 -1.22084365]\n",
      "graph_value [ 0.2088636  -1.95967012] [-1.32818605  0.19686124  0.73846658  0.17136828]\n",
      "graph_value [-0.11564828 -0.3011037 ] [-1.47852199 -0.71984421 -0.46063877  1.05712223]\n",
      "graph_value [ 0.34361829 -1.76304016] [ 0.32408397 -0.38508228 -0.676922    0.61167629]\n",
      "graph_value [1.03099952 0.93128012] [-0.83921752 -0.30921238  0.33126343  0.97554513]\n",
      "graph_value [-0.47917424 -0.18565898] [-1.10633497 -1.19620662  0.81252582  1.35624003]\n",
      "graph_value [-0.07201012  1.0035329 ] [ 0.36163603 -0.64511975  0.36139561  1.53803657]\n",
      "graph_value [-0.03582604  1.56464366] [-2.6197451   0.8219025   0.08704707 -0.29900735]\n",
      "graph_value [ 0.09176078 -1.98756891] [-0.21967189  0.35711257  1.47789404 -0.51827022]\n",
      "graph_value [-0.8084936  -0.50175704] [ 0.91540212  0.32875111 -0.5297602   0.51326743]\n",
      "graph_value [0.09707755 0.96864499] [-0.70205309 -0.32766215 -0.39210815 -1.46351495]\n",
      "graph_value [0.29612028 0.26105527] [ 0.00511346 -0.23458713 -1.41537074 -0.42064532]\n",
      "graph_value [-0.34271452 -0.80227727] [-0.16128571  0.40405086  1.8861859   0.17457781]\n",
      "graph_value [ 0.25755039 -0.07444592] [-1.91877122 -0.02651388  0.06023021  2.46324211]\n",
      "graph_value [-0.19236096  0.30154734] [-0.03471177 -1.16867804  1.14282281  0.75193303]\n",
      "graph_value [ 0.79103195 -0.90938745] [ 1.40279431 -1.40185106  0.58685709  2.19045563]\n",
      "graph_value [-0.99053633 -0.56629773] [ 0.09965137 -0.50347565 -1.55066343  0.06856297]\n",
      "graph_value [-1.06230371  0.47359243] [-0.91942423  1.54993441 -0.78325329 -0.32206152]\n",
      "graph_value [ 0.81351722 -1.23086432] [ 0.22745993  1.30714275 -1.60748323  0.18463386]\n",
      "graph_value [0.25988279 0.78182287] [-1.23695071 -1.32045661  0.52194157  0.29698467]\n",
      "graph_value [0.25049285 0.34644821] [-0.68002472  0.2322537   0.29307247 -0.71435142]\n",
      "graph_value [1.86577451 0.47383292] [-1.1913035   0.65655361 -0.97468167  0.7870846 ]\n",
      "graph_value [ 1.15859558 -0.82068232] [0.96337613 0.41278093 0.82206016 1.89679298]\n",
      "graph_value [-0.24538812 -0.75373616] [-0.88951443 -0.81581028 -0.07710171  0.34115197]\n",
      "graph_value [0.2766908  0.82718325] [ 0.01300189  1.45353408 -0.26465683  2.72016917]\n",
      "graph_value [ 0.62566735 -0.85715756] [-1.0708925   0.48247242 -0.22346279  0.71400049]\n",
      "graph_value [ 0.47323762 -0.07282891] [-0.84679372 -1.51484722 -0.44651495  0.85639879]\n",
      "graph_value [ 0.21409374 -1.24573878] [ 0.17318093  0.38531738 -0.88385744  0.15372511]\n",
      "graph_value [ 0.05820872 -1.1429703 ] [0.35778736 0.56078453 1.08305124 1.05380205]\n",
      "graph_value [-1.37766937 -0.93782504] [0.51503527 0.51378595 0.51504769 3.85273149]\n",
      "graph_value [0.57089051 1.13556564] [ 0.95400176  0.65139125 -0.31526924  0.75896922]\n",
      "graph_value [-0.77282521 -0.23681861] [-0.48536355  0.08187414  2.31465857 -1.86726519]\n",
      "graph_value [ 0.68626019 -1.61271587] [-0.47193187  1.0889506   0.06428002 -1.07774478]\n",
      "graph_value [-0.71530371  0.67959775] [-0.73036663  0.21645859  0.04557184 -0.65160035]\n",
      "graph_value [2.14394409 0.63391902] [-2.02514259  0.18645431 -0.66178646  0.85243333]\n",
      "graph_value [-0.79252074 -0.11473644] [ 0.50498728  0.86575519 -1.20029641 -0.33450124]\n",
      "graph_value [-0.47494531 -0.65332923] [ 1.76545424  0.40498171 -1.26088395  0.91786195]\n",
      "graph_value [2.1221562  1.03246526] [-1.51936997 -0.48423407  1.26691115 -0.70766947]\n",
      "graph_value [0.44381943 0.77463405] [-0.92693047 -0.05952536 -3.24126734 -1.02438764]\n",
      "graph_value [-0.25256815 -1.24778318] [ 1.6324113  -1.43014138 -0.44004449  0.13074058]\n",
      "graph_value [ 1.44127329 -1.43586215] [ 1.16316375  0.01023306 -0.98150865  0.46210347]\n",
      "graph_value [ 0.1990597  -0.60021688] [ 0.06980208 -0.3853136   0.11351735  0.66213067]\n",
      "graph_value [ 1.58601682 -1.2378155 ] [ 2.13303337 -1.9520878  -0.1517851   0.58831721]\n",
      "graph_value [ 0.28099187 -0.62269952] [-0.20812225 -0.49300093 -0.58936476  0.8496021 ]\n",
      "graph_value [ 0.35701549 -0.6929096 ] [0.89959988 0.30729952 0.81286212 0.62962884]\n",
      "graph_value [-0.82899501 -0.56018104] [ 0.74729361  0.61037027 -0.02090159  0.11732738]\n",
      "graph_value [ 1.2776649  -0.59157139] [ 0.54709738 -0.20219265 -0.2176812   1.09877685]\n",
      "graph_value [0.82541635 0.81350964] [ 1.30547881  0.02100384  0.68195297 -0.31026676]\n",
      "graph_value [ 0.32416635 -0.13014305] [ 0.09699596  0.59515703 -0.81822068  2.09238728]\n",
      "graph_value [-1.00601738 -1.21418861] [1.15811087 0.79166269 0.62411982 0.62834551]\n",
      "graph_value [-0.01224677 -0.89725437] [ 0.07580456 -0.67716171  0.97511973 -0.14705738]\n",
      "graph_value [-0.8254972  -0.32138584] [ 0.41293145 -0.56372455 -0.8222204   0.24368721]\n",
      "graph_value [ 0.24496657 -0.50694318] [-0.47103831  0.23204994 -1.44808434 -1.40746377]\n",
      "graph_value [-0.71844422 -0.21344715] [ 0.31090757  1.47535622  0.85765962 -0.15993853]\n",
      "graph_value [-0.01901621 -1.00252936] [-0.01851314 -0.28865864  0.32271856 -0.82723094]\n",
      "graph_value [0.51934651 1.53273891] [-0.10876015  0.40171172  0.69014399 -0.40122047]\n",
      "graph_value [0.22409248 0.0125924 ] [ 0.0976761  -0.77300978  0.02451017  0.49799829]\n",
      "graph_value [1.45114361 0.95927083] [ 2.15318246 -0.76734756  0.87232064  0.18334201]\n",
      "graph_value [ 2.18980293 -0.80829829] [-0.83972184 -0.59939265 -2.12389572 -0.52575502]\n",
      "graph_value [-0.75913266  0.15039379] [ 0.34175598  1.87617084  0.95042384 -0.57690366]\n",
      "graph_value [-0.89841467  0.49191917] [-1.32023321  1.83145877  1.17944012 -0.46917565]\n",
      "graph_value [-1.71313453  1.35387237] [-0.11453985  1.23781631 -1.59442766 -0.59937502]\n",
      "graph_value [0.0052437  0.04698059] [-0.45006547  0.62284993 -1.06762043 -0.14237949]\n",
      "graph_value [0.12029563 0.51443883] [ 0.71161488 -1.12464209 -1.53411417  1.27767682]\n",
      "graph_value [ 0.33231401 -0.74848654] [1.55115198 0.11567463 1.17929718 0.06751848]\n",
      "graph_value [2.06074792 1.75534084] [-0.24896415  0.97157095  0.64537595  1.36863156]\n",
      "graph_value [-0.96492346  0.68605146] [ 1.05842449 -1.75873949 -1.18325851 -2.03923218]\n",
      "graph_value [-0.26940683  0.71754226] [ 1.50235705  0.07409478  1.62861555 -1.38010146]\n",
      "graph_value [-1.70338244 -0.0555477 ] [ 0.38406545 -0.03269475 -2.0674421  -0.08912004]\n",
      "graph_value [-1.3044695   0.66967255] [ 0.36659825 -0.93987979 -0.51386692 -1.05921352]\n",
      "graph_value [-0.0626791   0.95514232] [-0.98572605  0.50404652 -0.53025762 -0.79287283]\n",
      "graph_value [-0.10703036 -1.03524232] [-0.55364931 -1.19787789  1.96472513  0.03526355]\n",
      "graph_value [-0.69972551  0.21397991] [-0.11232805 -0.2209696   0.6141667   0.75750771]\n",
      "graph_value [-0.53050115 -0.57581824] [-0.2750517  -2.30192116 -1.51519106  1.36687427]\n",
      "graph_value [ 1.64496771 -0.24903604] [0.57655696 0.31125015 3.07888081 1.11957491]\n",
      "graph_value [-0.12791759 -0.95554044] [-1.60644632  0.20346364 -0.75635075 -1.42225371]\n",
      "graph_value [-0.64657288 -1.081548  ] [ 1.68714164  0.88163976 -0.00797264  1.47994414]\n",
      "graph_value [ 0.07736831 -0.8612842 ] [ 1.52312408  0.53891004 -1.03724615 -0.19033868]\n",
      "graph_value [-0.87561825 -1.38279973] [ 0.92617755  1.90941664 -1.39856757  0.56296924]\n",
      "graph_value [-0.65064257 -0.48712538] [-0.59239392 -0.86399077  0.04852163 -0.83095012]\n",
      "graph_value [ 0.27045683 -0.05023811] [-0.23894805 -0.90756366 -0.57677133  0.75539123]\n",
      "graph_value [ 0.50091719 -0.97755524] [ 0.09933231  0.75138712 -1.66940528  0.54336019]\n",
      "graph_value [-0.66262376  0.57059867] [-0.76325916 -1.8048821  -1.62754244  0.04808495]\n",
      "graph_value [ 0.2597225  -0.90431663] [ 0.63859246 -1.66152006 -0.0660798  -1.2110162 ]\n",
      "graph_value [-0.65183611  0.04739867] [-0.86041337 -0.38455554  1.00629281 -0.57689187]\n",
      "graph_value [ 0.83569211 -1.12970685] [ 0.52980418  1.44156862 -2.4716445  -0.79689526]\n",
      "graph_value [ 0.57707213 -0.20304539] [ 0.37114587 -0.60398519  0.08658979 -0.15567724]\n",
      "graph_value [1.16778206 0.25442084] [ 0.33760266 -0.41187697 -0.48760622 -0.43255819]\n",
      "graph_value [ 0.39445214 -0.42098448] [ 0.28977486  2.0754008   0.8711247  -0.32602353]\n",
      "graph_value [ 1.20121392 -0.40807537] [-2.03812454 -1.00808631 -1.87079192 -0.35151348]\n",
      "graph_value [0.01841838 1.67643731] [ 0.32692737 -0.21910053  0.82940558 -2.21113531]\n",
      "graph_value [0.23561456 0.77086519] [-1.47858625  1.14375404  0.33849641 -0.41528791]\n",
      "graph_value [0.63278187 2.27069286] [ 0.18186626  0.24822059 -0.4593609  -0.84984437]\n",
      "graph_value [ 0.83033582 -0.85608383] [ 0.07156624 -0.47765745  0.47897983  0.33366211]\n",
      "graph_value [ 1.03753994 -0.5100164 ] [-0.26987494 -0.97876372 -0.44429326  0.37730049]\n"
     ]
    }
   ],
   "source": [
    "answer['graph_value'] = [graph_value(**input) for input in inputs]"
   ]
  },
  {
   "cell_type": "markdown",
   "metadata": {},
   "source": [
    "# Task 2\n",
    "\n",
    "In this graph, find all derivative of all the values over $z$ or $x$ or $w$.\n",
    "\n",
    "Write the result in form of dictionary, for example, $\\partial_{z_9} y$:\n",
    "\n",
    "```\n",
    "['dy_dz9'] = 1\n",
    "```"
   ]
  },
  {
   "cell_type": "code",
   "execution_count": 18,
   "metadata": {},
   "outputs": [],
   "source": [
    "def graph_derivatives(x, w):\n",
    "    res = {}\n",
    "    ## YOUR CODE HERE ##\n",
    "\n",
    "    return res"
   ]
  },
  {
   "cell_type": "code",
   "execution_count": 19,
   "metadata": {},
   "outputs": [],
   "source": [
    "answer['graph_derivatives'] = [graph_derivatives(**input) for input in inputs]"
   ]
  },
  {
   "cell_type": "markdown",
   "metadata": {},
   "source": [
    "# Task 3\n",
    "\n",
    "Using the values of the derivatives, calculated above:\n",
    "- extract a dictionary of values that are needed to calculate $\\partial_{c_1} y$\n",
    "- calculate that derivative"
   ]
  },
  {
   "cell_type": "code",
   "execution_count": 20,
   "metadata": {},
   "outputs": [],
   "source": [
    "def dy_dc1(x, w):\n",
    "    selected_derivs = {}\n",
    "    dy_dc1 = 0\n",
    "\n",
    "    ## YOUR CODE HERE ##\n",
    "\n",
    "    return selected_derivs, dy_dc1"
   ]
  },
  {
   "cell_type": "code",
   "execution_count": 21,
   "metadata": {},
   "outputs": [],
   "source": [
    "answer['dy_dc1'] = [dy_dc1(**input) for input in inputs]"
   ]
  },
  {
   "cell_type": "markdown",
   "metadata": {},
   "source": [
    "# Task 4\n",
    "Using the values of the derivatives, calculated above:\n",
    "- extract a dictionary of values that are needed to calculate $\\partial_{c_2} y$\n",
    "- calculate that derivative"
   ]
  },
  {
   "cell_type": "code",
   "execution_count": 22,
   "metadata": {},
   "outputs": [],
   "source": [
    "def dy_dc2(x, w):\n",
    "    selected_derivs = {}\n",
    "    dy_dc2 = 0\n",
    "\n",
    "    ## YOUR CODE HERE ##\n",
    "\n",
    "    return selected_derivs, dy_dc2"
   ]
  },
  {
   "cell_type": "code",
   "execution_count": 23,
   "metadata": {},
   "outputs": [],
   "source": [
    "answer['dy_dc2'] = [dy_dc2(**input) for input in inputs]"
   ]
  },
  {
   "cell_type": "markdown",
   "metadata": {},
   "source": [
    "# Task 5\n",
    "Using the values of the derivatives, calculated above:\n",
    "- extract a dictionary of values that are needed to calculate $\\partial_{b_1} y$\n",
    "- calculate that derivative"
   ]
  },
  {
   "cell_type": "code",
   "execution_count": 24,
   "metadata": {},
   "outputs": [],
   "source": [
    "def dy_db1(x, w):\n",
    "    selected_derivs = {}\n",
    "    dy_db1 = 0\n",
    "\n",
    "    ## YOUR CODE HERE ##\n",
    "\n",
    "    return selected_derivs, dy_db1"
   ]
  },
  {
   "cell_type": "code",
   "execution_count": 25,
   "metadata": {},
   "outputs": [],
   "source": [
    "answer['dy_db1'] = [dy_db1(**input) for input in inputs]"
   ]
  },
  {
   "cell_type": "markdown",
   "metadata": {},
   "source": [
    "# Task 6\n",
    "Using the values of the derivatives, calculated above:\n",
    "- extract a dictionary of values that are needed to calculate $\\partial_{b_2} y$\n",
    "- calculate that derivative"
   ]
  },
  {
   "cell_type": "code",
   "execution_count": 26,
   "metadata": {},
   "outputs": [],
   "source": [
    "def dy_db2(x, w):\n",
    "    selected_derivs = {}\n",
    "    dy_db2 = 0\n",
    "\n",
    "    ## YOUR CODE HERE ##\n",
    "\n",
    "    return selected_derivs, dy_db2"
   ]
  },
  {
   "cell_type": "code",
   "execution_count": 27,
   "metadata": {},
   "outputs": [],
   "source": [
    "answer['dy_db2'] = [dy_db2(**input) for input in inputs]"
   ]
  },
  {
   "cell_type": "code",
   "execution_count": 28,
   "metadata": {},
   "outputs": [],
   "source": [
    "json_tricks.dump(answer, '.answer.json')"
   ]
  }
 ],
 "metadata": {
  "kernelspec": {
   "display_name": "Python (Container)",
   "language": "python",
   "name": "container_env"
  },
  "language_info": {
   "codemirror_mode": {
    "name": "ipython",
    "version": 3
   },
   "file_extension": ".py",
   "mimetype": "text/x-python",
   "name": "python",
   "nbconvert_exporter": "python",
   "pygments_lexer": "ipython3",
   "version": "3.11.11"
  }
 },
 "nbformat": 4,
 "nbformat_minor": 2
}
